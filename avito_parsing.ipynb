{
 "cells": [
  {
   "cell_type": "markdown",
   "metadata": {},
   "source": [
    "# В этом файле находится код, которым я парсила авито.\n",
    "### 1. Импортирую необходимые библиотеки"
   ]
  },
  {
   "cell_type": "code",
   "execution_count": null,
   "metadata": {},
   "outputs": [],
   "source": [
    "import json\n",
    "import logging\n",
    "import pickle\n",
    "import time\n",
    "\n",
    "import pandas as pd\n",
    "import requests\n",
    "from bs4 import BeautifulSoup\n",
    "from selenium import webdriver\n",
    "from selenium.webdriver.chrome.options import Options\n",
    "from selenium.webdriver.chrome.service import Service as ChromeService\n",
    "from webdriver_manager.chrome import ChromeDriverManager"
   ]
  },
  {
   "cell_type": "markdown",
   "metadata": {},
   "source": [
    "### 2. Собираю ссылки с помощью Selenium и BeautifulSoup\n",
    "\n",
    "Прохожу по первым 50 страницам, и собираю ссылки на объявления. Из-за проверки на робота получилось собрать не 2500, а немногим меньше ссылок, что меня, однако, устроило."
   ]
  },
  {
   "cell_type": "code",
   "execution_count": null,
   "metadata": {},
   "outputs": [],
   "source": [
    "logging.basicConfig(level=logging.INFO)\n",
    "logger = logging.getLogger()\n",
    "\n",
    "chrome_options = Options()\n",
    "chrome_options.add_argument(\"--no-sandbox\")\n",
    "chrome_options.add_argument(\"--disable-dev-shm-usage\")\n",
    "\n",
    "driver = webdriver.Chrome(service=ChromeService(ChromeDriverManager().install()), options=chrome_options)\n",
    "\n",
    "all_links = []\n",
    "\n",
    "for i in range(50):\n",
    "    url = f\"https://www.avito.ru/all/rasteniya?cd=1&p={i}&q=%D0%BA%D0%BE%D0%BC%D0%BD%D0%B0%D1%82%D0%BD%D1%8B%D0%B5+%D1%86%D0%B2%D0%B5%D1%82%D1%8B\"\n",
    "    logger.info(f\"Открытие страницы: {url}\")\n",
    "    driver.get(url)\n",
    "\n",
    "    time.sleep(5)\n",
    "\n",
    "    page_source = driver.page_source\n",
    "\n",
    "    soup = BeautifulSoup(page_source, 'html.parser')\n",
    "\n",
    "    links = soup.select('div.iva-item-body-KLUuy > div.iva-item-titleStep-pdebR > div > a.styles-module-root-YeOVk.styles-module-root_noVisited-MpiGq')\n",
    "\n",
    "    logger.info(f\"Найдено {len(links)} ссылок\")\n",
    "    for link in links:\n",
    "        href = link.get('href')\n",
    "        all_links.append(href)"
   ]
  },
  {
   "cell_type": "markdown",
   "metadata": {},
   "source": [
    "#### 2.1. Сохраняю ссылки на будущее"
   ]
  },
  {
   "cell_type": "code",
   "execution_count": null,
   "metadata": {},
   "outputs": [],
   "source": [
    "# with open('links_set.pkl', 'wb') as file:\n",
    "#     pickle.dump(set(all_links), file)\n",
    "\n",
    "with open('links_set.pkl', 'rb') as file:\n",
    "    all_links = pickle.load(file)"
   ]
  },
  {
   "cell_type": "markdown",
   "metadata": {},
   "source": [
    "### 3. Собираю информацию с каждой из объявлений, переходя по ссылкам\n",
    "\n",
    "Что я собираю:\n",
    "- Цена\n",
    "- Несколько ли товаров в продаже\n",
    "- Средняя оценка продавца\n",
    "- Число отзывов о продавце\n",
    "- Местоположение товара\n",
    "- Время публикации\n",
    "- Число просмотров у объявления\n",
    "- Число просмотров у объявления за последний день (обновлено 2 июня 2024)\n"
   ]
  },
  {
   "cell_type": "code",
   "execution_count": null,
   "metadata": {},
   "outputs": [],
   "source": [
    "plant_data_dict = {}\n",
    "all_links_list = sorted(list(all_links))\n",
    "\n",
    "chrome_options = Options()\n",
    "# chrome_options.add_argument(\"--headless\")  # Запуск в фоновом режиме\n",
    "chrome_options.add_argument(\"--no-sandbox\")\n",
    "chrome_options.add_argument(\"--disable-dev-shm-usage\")\n",
    "\n",
    "driver = webdriver.Chrome(service=ChromeService(ChromeDriverManager().install()), options=chrome_options)\n",
    "\n",
    "for i in range(len(all_links_list)):\n",
    "    url = 'https://www.avito.ru' + all_links_list[i]\n",
    "    \n",
    "    if url not in plant_data_dict:\n",
    "        driver.get(url)\n",
    "\n",
    "        time.sleep(5)\n",
    "\n",
    "        page_source = driver.page_source\n",
    "\n",
    "        # Закрываем драйвер\n",
    "        # driver.quit()\n",
    "\n",
    "        soup = BeautifulSoup(page_source, 'html.parser')\n",
    "\n",
    "        price_elements = soup.select('#app > div > div.index-module-root-_rU83.index-module-responsive-rN34p.index-module-page_default-NzRy9.index-module-page_default_wide-_a20J > div:nth-child(1) > div > div.style-item-view-PCYlM > div.style-item-view-content-SDgKX.style-itemViewContentRedesign-NdZwn > div.style-item-view-content-right-rxJqW.style-itemViewContentRightRedesign-KspMX > div > div > div > div.style-item-view-price-block-WSyYk.style-withRedesign-lv9A4 > div > div.styles-module-theme-rOnN1 > div > div:nth-child(1) > div > span > span > span.styles-module-size_xxxl-MrhiK')\n",
    "        multiple_goods = soup.select('#app > div > div.index-module-root-_rU83.index-module-responsive-rN34p.index-module-page_default-NzRy9.index-module-page_default_wide-_a20J > div:nth-child(1) > div > div.style-item-view-PCYlM > div.style-item-view-content-SDgKX.style-itemViewContentRedesign-NdZwn > div.style-item-view-content-right-rxJqW.style-itemViewContentRightRedesign-KspMX > div > div > div > div.style-item-view-price-block-WSyYk.style-withRedesign-lv9A4 > div > div.styles-module-theme-rOnN1 > div > p > span:nth-child(2)')\n",
    "        seller_rating = soup.select('#app > div > div.index-module-root-_rU83.index-module-responsive-rN34p.index-module-page_default-NzRy9.index-module-page_default_wide-_a20J > div:nth-child(1) > div > div.style-item-view-PCYlM > div.style-item-view-content-SDgKX.style-itemViewContentRedesign-NdZwn > div.style-item-view-content-right-rxJqW.style-itemViewContentRightRedesign-KspMX > div > div > div > div:nth-child(2) > div.styles-module-theme-rOnN1 > div > div > div > div:nth-child(1) > div.style-seller-info-prop-dafPB.undefined.style-two-col-_3AFC > div.style-seller-info-col-PETb_ > div:nth-child(1) > div.style-seller-info-rating-xHI5T.seller-info-rating > span.style-seller-info-rating-score-C0y96')\n",
    "        num_reviews = soup.select('#app > div > div.index-module-root-_rU83.index-module-responsive-rN34p.index-module-page_default-NzRy9.index-module-page_default_wide-_a20J > div:nth-child(1) > div > div.style-item-view-PCYlM > div.style-item-view-content-SDgKX.style-itemViewContentRedesign-NdZwn > div.style-item-view-content-right-rxJqW.style-itemViewContentRightRedesign-KspMX > div > div > div > div:nth-child(2) > div.styles-module-theme-rOnN1 > div > div > div > div:nth-child(1) > div.style-seller-info-prop-dafPB.undefined.style-two-col-_3AFC > div.style-seller-info-col-PETb_ > div:nth-child(1) > div.style-seller-info-rating-xHI5T.seller-info-rating > span.styles-module-size_s-AGMw8')\n",
    "        address = soup.select('#app > div > div.index-module-root-_rU83.index-module-responsive-rN34p.index-module-page_default-NzRy9.index-module-page_default_wide-_a20J > div:nth-child(1) > div > div.style-item-view-PCYlM > div.style-item-view-content-SDgKX.style-itemViewContentRedesign-NdZwn > div.style-item-view-content-left-bb5Ih.style-itemViewContentLeftRedesign-eaVKk > div.style-item-view-main-tKI1S.js-item-view-main.style-item-min-height-TJwyJ > div:nth-child(1) > div.style-item-view-block-SEFaY.style-item-view-map-rppAn.style-new-style-iX7zV > div > div.style-item-map-location-wbfMT > div.style-item-address-KooqC > div > span')\n",
    "        date_time = soup.select('#app > div > div.index-module-root-_rU83.index-module-responsive-rN34p.index-module-page_default-NzRy9.index-module-page_default_wide-_a20J > div:nth-child(1) > div > div.style-item-view-PCYlM > div.style-item-view-content-SDgKX.style-itemViewContentRedesign-NdZwn > div.style-item-view-content-left-bb5Ih.style-itemViewContentLeftRedesign-eaVKk > div.style-item-view-main-tKI1S.js-item-view-main.style-item-min-height-TJwyJ > div.style-item-socials-container-_aa1d.style-new-style-eTWEE > div > article > p > span:nth-child(2)')\n",
    "        views = soup.select('#app > div > div.index-module-root-_rU83.index-module-responsive-rN34p.index-module-page_default-NzRy9.index-module-page_default_wide-_a20J > div:nth-child(1) > div > div.style-item-view-PCYlM > div.style-item-view-content-SDgKX.style-itemViewContentRedesign-NdZwn > div.style-item-view-content-left-bb5Ih.style-itemViewContentLeftRedesign-eaVKk > div.style-item-view-main-tKI1S.js-item-view-main.style-item-min-height-TJwyJ > div.style-item-socials-container-_aa1d.style-new-style-eTWEE > div > article > p > span:nth-child(3) > span:nth-child(1)')\n",
    "        new_views = soup.select('#app > div > div.index-module-root-_rU83.index-module-responsive-rN34p.index-module-page_default-NzRy9.index-module-page_default_wide-_a20J > div:nth-child(1) > div > div.style-item-view-PCYlM > div.style-item-view-content-SDgKX.style-itemViewContentRedesign-NdZwn > div.style-item-view-content-left-bb5Ih.style-itemViewContentLeftRedesign-eaVKk > div.style-item-view-main-tKI1S.js-item-view-main.style-item-min-height-TJwyJ > div.style-item-socials-container-_aa1d.style-new-style-eTWEE > div > article > p > span:nth-child(3) > span:nth-child(2)')\n",
    "        data_list = [price_elements, multiple_goods, seller_rating, num_reviews, address, date_time, views, new_views]\n",
    "\n",
    "        for j in range(8):\n",
    "            if len(data_list[j]) != 0:\n",
    "                data_list[j] = data_list[j][0].get_text(strip=True)\n",
    "            else:\n",
    "                data_list[j] = pd.NA\n",
    "        \n",
    "        plant_data_dict[url] = plant_data_dict.get(url, data_list)"
   ]
  },
  {
   "cell_type": "markdown",
   "metadata": {},
   "source": [
    "#### 3.1. Сохраняю данные"
   ]
  },
  {
   "cell_type": "code",
   "execution_count": null,
   "metadata": {},
   "outputs": [],
   "source": [
    "# Нашла в интернете способ справиться с ошибкой \"TypeError: Object of type NAType is not JSON serializable\":\n",
    "# https://stackoverflow.com/questions/65411519/typeerror-object-of-type-natype-is-not-json-serializable\n",
    "\n",
    "# def convert_NA_to_none(obj):\n",
    "#     if isinstance(obj, pd.NA.__class__):\n",
    "#         return None\n",
    "#     if isinstance(obj, dict):\n",
    "#         return {k: convert_NA_to_none(v) for k, v in obj.items()}\n",
    "#     if isinstance(obj, list):\n",
    "#         return [convert_NA_to_none(i) for i in obj]\n",
    "#     return obj\n",
    "\n",
    "# Конвертируем NAType объекты в None\n",
    "# converted_data = convert_NA_to_none(plant_data_dict)\n",
    "\n",
    "# Сохраняем наши данные в JSON\n",
    "# with open('plant_data_dict.json', 'w') as json_file:\n",
    "#     json.dump(converted_data, json_file)\n",
    "\n",
    "# Загружаем данные из JSON\n",
    "with open('plant_data_dict.json', 'r') as json_file:\n",
    "    plant_data_dict = json.load(json_file)"
   ]
  }
 ],
 "metadata": {
  "kernelspec": {
   "display_name": "Python 3",
   "language": "python",
   "name": "python3"
  },
  "language_info": {
   "codemirror_mode": {
    "name": "ipython",
    "version": 3
   },
   "file_extension": ".py",
   "mimetype": "text/x-python",
   "name": "python",
   "nbconvert_exporter": "python",
   "pygments_lexer": "ipython3",
   "version": "3.9.6"
  }
 },
 "nbformat": 4,
 "nbformat_minor": 2
}
