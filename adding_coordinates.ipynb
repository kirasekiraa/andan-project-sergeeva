{
 "cells": [
  {
   "cell_type": "code",
   "execution_count": 2,
   "metadata": {},
   "outputs": [],
   "source": [
    "import requests\n",
    "import json\n",
    "import pickle\n",
    "\n",
    "import pandas as pd"
   ]
  },
  {
   "cell_type": "code",
   "execution_count": 5,
   "metadata": {},
   "outputs": [],
   "source": [
    "# Загружаем данные из JSON\n",
    "with open('plant_data_dict.json', 'r') as json_file:\n",
    "    plant_data_dict = json.load(json_file)"
   ]
  },
  {
   "cell_type": "code",
   "execution_count": 14,
   "metadata": {},
   "outputs": [],
   "source": [
    "API_KEY = ''\n",
    "BASE_URL = 'https://geocode-maps.yandex.ru/1.x/'\n",
    "\n",
    "# coords = {}\n",
    "\n",
    "for url in plant_data_dict:\n",
    "    if url not in coords and url not in coords_nums and not pd.isna(plant_data_dict[url][0]) and not pd.isna(plant_data_dict[url][-4]):\n",
    "        params = {\n",
    "            'apikey': API_KEY,\n",
    "            'geocode': plant_data_dict[url][-4],\n",
    "            'format': 'json'\n",
    "        }\n",
    "\n",
    "        response = requests.get(BASE_URL, params=params)\n",
    "\n",
    "        if response.status_code == 200:\n",
    "            data = response.json()\n",
    "            coords[url] = data\n",
    "        else:\n",
    "            print(f\"Error: {response.status_code}\")\n",
    "            print(response.text)"
   ]
  },
  {
   "cell_type": "code",
   "execution_count": 15,
   "metadata": {},
   "outputs": [],
   "source": [
    "# coords_nums = {}\n",
    "for url in coords:\n",
    "    a, b = coords[url]['response']['GeoObjectCollection']['featureMember'][0]['GeoObject']['Point']['pos'].split(' ')\n",
    "    coords_nums[url] = (float(a), float(b))"
   ]
  },
  {
   "cell_type": "code",
   "execution_count": 16,
   "metadata": {},
   "outputs": [],
   "source": [
    "# with open('coords_nums.pkl', 'wb') as file:\n",
    "#     pickle.dump(coords_nums, file)\n",
    "\n",
    "with open('coords_nums.pkl', 'rb') as file:\n",
    "    coords_nums = pickle.load(file)"
   ]
  }
 ],
 "metadata": {
  "kernelspec": {
   "display_name": "Python 3",
   "language": "python",
   "name": "python3"
  },
  "language_info": {
   "codemirror_mode": {
    "name": "ipython",
    "version": 3
   },
   "file_extension": ".py",
   "mimetype": "text/x-python",
   "name": "python",
   "nbconvert_exporter": "python",
   "pygments_lexer": "ipython3",
   "version": "3.9.6"
  }
 },
 "nbformat": 4,
 "nbformat_minor": 2
}
